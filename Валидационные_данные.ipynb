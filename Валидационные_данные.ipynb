{
  "nbformat": 4,
  "nbformat_minor": 0,
  "metadata": {
    "colab": {
      "provenance": []
    },
    "kernelspec": {
      "name": "python3",
      "display_name": "Python 3"
    },
    "language_info": {
      "name": "python"
    }
  },
  "cells": [
    {
      "cell_type": "code",
      "metadata": {
        "id": "21TXw0ldj-4K"
      },
      "source": [
        "import numpy as np\n",
        "import sklearn\n",
        "from sklearn.model_selection import KFold"
      ],
      "execution_count": null,
      "outputs": []
    },
    {
      "cell_type": "code",
      "metadata": {
        "colab": {
          "base_uri": "https://localhost:8080/"
        },
        "id": "mHA3LiD_kAHH",
        "outputId": "07c60576-731e-4164-d14d-3ae7821d60b7"
      },
      "source": [
        "print(np.__version__)\n",
        "print(sklearn.__version__)"
      ],
      "execution_count": null,
      "outputs": [
        {
          "output_type": "stream",
          "text": [
            "1.19.5\n",
            "0.22.2.post1\n"
          ],
          "name": "stdout"
        }
      ]
    },
    {
      "cell_type": "code",
      "metadata": {
        "id": "AK9ONmovkE9e"
      },
      "source": [
        "X = np.array([[1, 2], [3, 4], [1, 2], [3, 4]])\n",
        "y = np.array([1, 2, 3, 4])"
      ],
      "execution_count": null,
      "outputs": []
    },
    {
      "cell_type": "code",
      "metadata": {
        "id": "K8dFDC75kIGD"
      },
      "source": [
        "kf = KFold(n_splits = 2)"
      ],
      "execution_count": null,
      "outputs": []
    },
    {
      "cell_type": "code",
      "metadata": {
        "colab": {
          "base_uri": "https://localhost:8080/"
        },
        "id": "HN-bqs9rkJwT",
        "outputId": "8a495903-c93e-4b1a-e792-d6a107032fb5"
      },
      "source": [
        "for train_index, test_index in kf.split(X):\n",
        "    print(\"Тренировочные данные:\", train_index, \"Тестовые данные:\", test_index)\n",
        "    X_train, X_test = X[train_index], X[test_index]\n",
        "    y_train, y_test = y[train_index], y[test_index]"
      ],
      "execution_count": null,
      "outputs": [
        {
          "output_type": "stream",
          "text": [
            "Тренировочные данные: [2 3] Тестовые данные: [0 1]\n",
            "Тренировочные данные: [0 1] Тестовые данные: [2 3]\n"
          ],
          "name": "stdout"
        }
      ]
    }
  ]
}